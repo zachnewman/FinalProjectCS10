{
 "cells": [
  {
   "cell_type": "code",
   "execution_count": 55,
   "metadata": {},
   "outputs": [],
   "source": [
    "from Cards_and_Deck import Card\n",
    "from Cards_and_Deck import Deck\n",
    "import random"
   ]
  },
  {
   "cell_type": "code",
   "execution_count": null,
   "metadata": {},
   "outputs": [],
   "source": [
    "class CrazyEights:\n",
    "    def __init__(self):\n",
    "        self.cards = Deck()\n",
    "        self.cards.shuffle()   \n",
    "        \n",
    "    def user_wins_function(self):\n",
    "        print(\"You Win!\")\n",
    "        print(\"Refresh the Page to Play Again!\")\n",
    "        return True\n",
    "              \n",
    "    def computer_wins_function(self):\n",
    "        print(\"You Lost!\")\n",
    "        print(\"Refresh the Page to Play Again!\")\n",
    "        return True\n",
    "        \n",
    "    def sortValue(self,x):\n",
    "        sortvalue = Card.val(x)\n",
    "        return sortvalue\n",
    "   \n",
    "    def sortSuit(self,x):\n",
    "        return x.suit\n",
    "   \n",
    "    def print_human_hand(self):\n",
    "        global human\n",
    "        count = 0\n",
    "        human.sort(key=b.sortValue)\n",
    "        human.sort(key=b.sortSuit)\n",
    "        print(\"\")\n",
    "        print(\"--------------------\")\n",
    "        print(\"TURN\",turn)\n",
    "        print(\"\")\n",
    "        print(\"Human Player's Hand:\")\n",
    "        print(\"--------------------\")\n",
    "        for x in human:\n",
    "            count += 1\n",
    "            print(\"Choice\",count,end=\"\")\n",
    "            print(\": \",end=\"\")\n",
    "            print(x)\n",
    "        print(\"\")\n",
    "        print(\"TURN OPTIONS:\")\n",
    "        print(\"- Play a card\")\n",
    "        if pile != []:\n",
    "            print(\"- Draw a card\")\n",
    "        print(\"--------------------\")\n",
    "        \n",
    "    def human_playhand(self):\n",
    "        global declaredsuit\n",
    "        global human\n",
    "        global pile\n",
    "        global topcard\n",
    "        while pile != []:\n",
    "            self.print_human_hand()\n",
    "            choice = input(\"Type the number of the Choice you would like or type 'draw' to draw a card.\")\n",
    "            if choice.lower() == \"draw\":\n",
    "                print(\"Human Player draws a card.\")\n",
    "                print(\"The top card is\",topcard)\n",
    "                human.append(pile[0])\n",
    "                pile = pile[1:]\n",
    "                continue\n",
    "            answer = human[int(choice)-1]\n",
    "            if answer.suit.lower() == topcard.suit.lower():\n",
    "                if answer.value == \"8\":\n",
    "                    while True:\n",
    "                        declaredsuit = input(\"Declare a suit: Clubs, Diamonds, Hearts, or Spades.\")\n",
    "                        if declaredsuit.lower() not in \"clubs diamonds hearts spades\".split():\n",
    "                            print(\"Please select a valid suit.\")\n",
    "                            continue\n",
    "                        print(\"Human Player declares the suit\",declaredsuit)\n",
    "                        break\n",
    "                pile.insert((len(pile)+1),answer)\n",
    "                human.remove(answer)\n",
    "                return answer\n",
    "            elif answer.value == topcard.value:\n",
    "                if answer.value == \"8\":\n",
    "                    while True:\n",
    "                        declaredsuit = input(\"Declare a suit: Clubs, Diamonds, Hearts, or Spades.\")\n",
    "                        if declaredsuit.lower() not in \"clubs diamonds hearts spades\".split():\n",
    "                            print(\"Please select a valid suit.\")\n",
    "                            continue\n",
    "                        print(\"Human Player declares the suit\",declaredsuit)\n",
    "                        break\n",
    "                pile.insert((len(pile)+1),answer)\n",
    "                human.remove(answer)\n",
    "                return answer\n",
    "            else:\n",
    "                print(\"\")\n",
    "                print(\"\")\n",
    "                print(\"MESSAGE:\")\n",
    "                print(\"That card cannot be played here.\")\n",
    "                print(\"\")\n",
    "                print(\"\")\n",
    "                continue\n",
    "\n",
    "                \n",
    "    def computer_playhand(self):\n",
    "        global declaredsuit\n",
    "        global computer\n",
    "        global pile\n",
    "        global topcard\n",
    "        while pile != []:\n",
    "            print(\"Computer Player has\",len(computer),\"cards.\")\n",
    "            for answer in computer:\n",
    "                if answer.suit.lower() == topcard.suit.lower():\n",
    "                    print(\"Computer Player put down\",answer)\n",
    "                    print(\"\")\n",
    "                    if answer.value == \"8\":\n",
    "                        suitlist = ['Clubs','Hearts','Diamonds','Spades']\n",
    "                        declaredsuit = random.choice(suitlist)\n",
    "                        print(\"Computer Player has declared the suit\",declaredsuit)\n",
    "                    pile.insert((len(pile)+1),answer)\n",
    "                    computer.remove(answer)\n",
    "                    return answer\n",
    "                elif answer.value == topcard.value:\n",
    "                    print(\"Computer Player put down\",answer)\n",
    "                    print(\"\")\n",
    "                    if answer.value == \"8\":\n",
    "                        suitlist = ['Clubs','Hearts','Diamonds','Spades']\n",
    "                        declaredsuit = random.choice(suitlist)\n",
    "                        print(\"Computer Player has declared the suit\",declaredsuit)\n",
    "                    pile.insert((len(pile)+1),answer)\n",
    "                    computer.remove(answer)\n",
    "                    return answer\n",
    "            print(\"Computer Player draws a card.\")\n",
    "            computer.append(pile[0])\n",
    "            pile = pile[1:]\n",
    "            continue\n",
    "\n",
    "                \n",
    "    def play(self):\n",
    "        global finalCount\n",
    "        global human\n",
    "        global computer\n",
    "        global pile\n",
    "        global topcard\n",
    "        global turn\n",
    "        global declaredsuit\n",
    "        turn = 0\n",
    "        human = self.cards.drawN(7)\n",
    "        computer = self.cards.drawN(7)\n",
    "        pile = self.cards.drawN(38)\n",
    "        topcard = pile[0]\n",
    "        pile = pile[1:]\n",
    "        while True:\n",
    "            turn += 1\n",
    "            print(\"Current Top Card:\",topcard)\n",
    "            topcard = self.human_playhand()\n",
    "            if topcard.value == \"8\":\n",
    "                topcard.suit = declaredsuit\n",
    "            print(\"\")\n",
    "            print(\"Human Player put down\",topcard)\n",
    "            print(\"\")\n",
    "            if human == []:\n",
    "                gameOver = self.user_wins_function()\n",
    "                if gameOver == True:\n",
    "                    return\n",
    "            topcard = self.computer_playhand()\n",
    "            if topcard.value == \"8\":\n",
    "                topcard.suit = declaredsuit\n",
    "            if computer == []:\n",
    "                gameOver = self.computer_wins_function()\n",
    "                if gameOver == True:\n",
    "                    return\n",
    "            continue\n",
    "\n",
    "\n",
    "\n",
    "        "
   ]
  },
  {
   "cell_type": "code",
   "execution_count": null,
   "metadata": {},
   "outputs": [
    {
     "name": "stdout",
     "output_type": "stream",
     "text": [
      "Current Top Card: 4 of Spades\n",
      "--------------------\n",
      "TURN 1\n",
      "\n",
      "Human Player's Hand:\n",
      "--------------------\n",
      "Choice 1: 6 of Clubs\n",
      "Choice 2: 2 of Diamonds\n",
      "Choice 3: 3 of Diamonds\n",
      "Choice 4: 10 of Hearts\n",
      "Choice 5: J of Hearts\n",
      "Choice 6: 7 of Spades\n",
      "Choice 7: 8 of Spades\n",
      "\n",
      "TURN OPTIONS:\n",
      "- Play a card\n",
      "- Draw a card\n",
      "--------------------\n"
     ]
    },
    {
     "name": "stdin",
     "output_type": "stream",
     "text": [
      "Type the number of the Choice you would like or type 'draw' to draw a card. 6\n"
     ]
    },
    {
     "name": "stdout",
     "output_type": "stream",
     "text": [
      "\n",
      "Human Player put down 7 of Spades\n",
      "\n",
      "Computer Player has 7 cards.\n",
      "Computer Player put down J of Spades\n",
      "\n",
      "Current Top Card: J of Spades\n",
      "--------------------\n",
      "TURN 2\n",
      "\n",
      "Human Player's Hand:\n",
      "--------------------\n",
      "Choice 1: 6 of Clubs\n",
      "Choice 2: 2 of Diamonds\n",
      "Choice 3: 3 of Diamonds\n",
      "Choice 4: 10 of Hearts\n",
      "Choice 5: J of Hearts\n",
      "Choice 6: 8 of Spades\n",
      "\n",
      "TURN OPTIONS:\n",
      "- Play a card\n",
      "- Draw a card\n",
      "--------------------\n"
     ]
    },
    {
     "name": "stdin",
     "output_type": "stream",
     "text": [
      "Type the number of the Choice you would like or type 'draw' to draw a card. 5\n"
     ]
    },
    {
     "name": "stdout",
     "output_type": "stream",
     "text": [
      "\n",
      "Human Player put down J of Hearts\n",
      "\n",
      "Computer Player has 6 cards.\n",
      "Computer Player put down 9 of Hearts\n",
      "\n",
      "Current Top Card: 9 of Hearts\n",
      "--------------------\n",
      "TURN 3\n",
      "\n",
      "Human Player's Hand:\n",
      "--------------------\n",
      "Choice 1: 6 of Clubs\n",
      "Choice 2: 2 of Diamonds\n",
      "Choice 3: 3 of Diamonds\n",
      "Choice 4: 10 of Hearts\n",
      "Choice 5: 8 of Spades\n",
      "\n",
      "TURN OPTIONS:\n",
      "- Play a card\n",
      "- Draw a card\n",
      "--------------------\n"
     ]
    },
    {
     "name": "stdin",
     "output_type": "stream",
     "text": [
      "Type the number of the Choice you would like or type 'draw' to draw a card. 4\n"
     ]
    },
    {
     "name": "stdout",
     "output_type": "stream",
     "text": [
      "\n",
      "Human Player put down 10 of Hearts\n",
      "\n",
      "Computer Player has 5 cards.\n",
      "Computer Player put down 3 of Hearts\n",
      "\n",
      "Current Top Card: 3 of Hearts\n",
      "--------------------\n",
      "TURN 4\n",
      "\n",
      "Human Player's Hand:\n",
      "--------------------\n",
      "Choice 1: 6 of Clubs\n",
      "Choice 2: 2 of Diamonds\n",
      "Choice 3: 3 of Diamonds\n",
      "Choice 4: 8 of Spades\n",
      "\n",
      "TURN OPTIONS:\n",
      "- Play a card\n",
      "- Draw a card\n",
      "--------------------\n"
     ]
    },
    {
     "name": "stdin",
     "output_type": "stream",
     "text": [
      "Type the number of the Choice you would like or type 'draw' to draw a card. 3\n"
     ]
    },
    {
     "name": "stdout",
     "output_type": "stream",
     "text": [
      "\n",
      "Human Player put down 3 of Diamonds\n",
      "\n",
      "Computer Player has 4 cards.\n",
      "Computer Player put down 10 of Diamonds\n",
      "\n",
      "Current Top Card: 10 of Diamonds\n",
      "--------------------\n",
      "TURN 5\n",
      "\n",
      "Human Player's Hand:\n",
      "--------------------\n",
      "Choice 1: 6 of Clubs\n",
      "Choice 2: 2 of Diamonds\n",
      "Choice 3: 8 of Spades\n",
      "\n",
      "TURN OPTIONS:\n",
      "- Play a card\n",
      "- Draw a card\n",
      "--------------------\n"
     ]
    },
    {
     "name": "stdin",
     "output_type": "stream",
     "text": [
      "Type the number of the Choice you would like or type 'draw' to draw a card. 2\n"
     ]
    },
    {
     "name": "stdout",
     "output_type": "stream",
     "text": [
      "\n",
      "Human Player put down 2 of Diamonds\n",
      "\n",
      "Computer Player has 3 cards.\n",
      "Computer Player put down 2 of Clubs\n",
      "\n",
      "Current Top Card: 2 of Clubs\n",
      "--------------------\n",
      "TURN 6\n",
      "\n",
      "Human Player's Hand:\n",
      "--------------------\n",
      "Choice 1: 6 of Clubs\n",
      "Choice 2: 8 of Spades\n",
      "\n",
      "TURN OPTIONS:\n",
      "- Play a card\n",
      "- Draw a card\n",
      "--------------------\n"
     ]
    },
    {
     "name": "stdin",
     "output_type": "stream",
     "text": [
      "Type the number of the Choice you would like or type 'draw' to draw a card. 1\n"
     ]
    },
    {
     "name": "stdout",
     "output_type": "stream",
     "text": [
      "\n",
      "Human Player put down 6 of Clubs\n",
      "\n",
      "Computer Player has 2 cards.\n",
      "Computer Player draws a card.\n",
      "Computer Player has 3 cards.\n",
      "Computer Player draws a card.\n",
      "Computer Player has 4 cards.\n",
      "Computer Player put down 6 of Hearts\n",
      "\n",
      "Current Top Card: 6 of Hearts\n",
      "--------------------\n",
      "TURN 7\n",
      "\n",
      "Human Player's Hand:\n",
      "--------------------\n",
      "Choice 1: 8 of Spades\n",
      "\n",
      "TURN OPTIONS:\n",
      "- Play a card\n",
      "- Draw a card\n",
      "--------------------\n"
     ]
    },
    {
     "name": "stdin",
     "output_type": "stream",
     "text": [
      "Type the number of the Choice you would like or type 'draw' to draw a card. draw\n"
     ]
    },
    {
     "name": "stdout",
     "output_type": "stream",
     "text": [
      "Human Player draws a card.\n",
      "The top card is 6 of Hearts\n",
      "--------------------\n",
      "TURN 7\n",
      "\n",
      "Human Player's Hand:\n",
      "--------------------\n",
      "Choice 1: J of Diamonds\n",
      "Choice 2: 8 of Spades\n",
      "\n",
      "TURN OPTIONS:\n",
      "- Play a card\n",
      "- Draw a card\n",
      "--------------------\n"
     ]
    },
    {
     "name": "stdin",
     "output_type": "stream",
     "text": [
      "Type the number of the Choice you would like or type 'draw' to draw a card. draw\n"
     ]
    },
    {
     "name": "stdout",
     "output_type": "stream",
     "text": [
      "Human Player draws a card.\n",
      "The top card is 6 of Hearts\n",
      "--------------------\n",
      "TURN 7\n",
      "\n",
      "Human Player's Hand:\n",
      "--------------------\n",
      "Choice 1: J of Diamonds\n",
      "Choice 2: 8 of Spades\n",
      "Choice 3: K of Spades\n",
      "\n",
      "TURN OPTIONS:\n",
      "- Play a card\n",
      "- Draw a card\n",
      "--------------------\n"
     ]
    },
    {
     "name": "stdin",
     "output_type": "stream",
     "text": [
      "Type the number of the Choice you would like or type 'draw' to draw a card. draw\n"
     ]
    },
    {
     "name": "stdout",
     "output_type": "stream",
     "text": [
      "Human Player draws a card.\n",
      "The top card is 6 of Hearts\n",
      "--------------------\n",
      "TURN 7\n",
      "\n",
      "Human Player's Hand:\n",
      "--------------------\n",
      "Choice 1: J of Diamonds\n",
      "Choice 2: 2 of Hearts\n",
      "Choice 3: 8 of Spades\n",
      "Choice 4: K of Spades\n",
      "\n",
      "TURN OPTIONS:\n",
      "- Play a card\n",
      "- Draw a card\n",
      "--------------------\n"
     ]
    },
    {
     "name": "stdin",
     "output_type": "stream",
     "text": [
      "Type the number of the Choice you would like or type 'draw' to draw a card. 2\n"
     ]
    },
    {
     "name": "stdout",
     "output_type": "stream",
     "text": [
      "\n",
      "Human Player put down 2 of Hearts\n",
      "\n",
      "Computer Player has 3 cards.\n",
      "Computer Player put down 5 of Hearts\n",
      "\n",
      "Current Top Card: 5 of Hearts\n",
      "--------------------\n",
      "TURN 8\n",
      "\n",
      "Human Player's Hand:\n",
      "--------------------\n",
      "Choice 1: J of Diamonds\n",
      "Choice 2: 8 of Spades\n",
      "Choice 3: K of Spades\n",
      "\n",
      "TURN OPTIONS:\n",
      "- Play a card\n",
      "- Draw a card\n",
      "--------------------\n"
     ]
    },
    {
     "name": "stdin",
     "output_type": "stream",
     "text": [
      "Type the number of the Choice you would like or type 'draw' to draw a card. draw\n"
     ]
    },
    {
     "name": "stdout",
     "output_type": "stream",
     "text": [
      "Human Player draws a card.\n",
      "The top card is 5 of Hearts\n",
      "--------------------\n",
      "TURN 8\n",
      "\n",
      "Human Player's Hand:\n",
      "--------------------\n",
      "Choice 1: 8 of Clubs\n",
      "Choice 2: J of Diamonds\n",
      "Choice 3: 8 of Spades\n",
      "Choice 4: K of Spades\n",
      "\n",
      "TURN OPTIONS:\n",
      "- Play a card\n",
      "- Draw a card\n",
      "--------------------\n"
     ]
    },
    {
     "name": "stdin",
     "output_type": "stream",
     "text": [
      "Type the number of the Choice you would like or type 'draw' to draw a card. draw\n"
     ]
    },
    {
     "name": "stdout",
     "output_type": "stream",
     "text": [
      "Human Player draws a card.\n",
      "The top card is 5 of Hearts\n",
      "--------------------\n",
      "TURN 8\n",
      "\n",
      "Human Player's Hand:\n",
      "--------------------\n",
      "Choice 1: 8 of Clubs\n",
      "Choice 2: J of Clubs\n",
      "Choice 3: J of Diamonds\n",
      "Choice 4: 8 of Spades\n",
      "Choice 5: K of Spades\n",
      "\n",
      "TURN OPTIONS:\n",
      "- Play a card\n",
      "- Draw a card\n",
      "--------------------\n"
     ]
    },
    {
     "name": "stdin",
     "output_type": "stream",
     "text": [
      "Type the number of the Choice you would like or type 'draw' to draw a card. draw\n"
     ]
    },
    {
     "name": "stdout",
     "output_type": "stream",
     "text": [
      "Human Player draws a card.\n",
      "The top card is 5 of Hearts\n",
      "--------------------\n",
      "TURN 8\n",
      "\n",
      "Human Player's Hand:\n",
      "--------------------\n",
      "Choice 1: 8 of Clubs\n",
      "Choice 2: J of Clubs\n",
      "Choice 3: J of Diamonds\n",
      "Choice 4: 6 of Spades\n",
      "Choice 5: 8 of Spades\n",
      "Choice 6: K of Spades\n",
      "\n",
      "TURN OPTIONS:\n",
      "- Play a card\n",
      "- Draw a card\n",
      "--------------------\n"
     ]
    },
    {
     "name": "stdin",
     "output_type": "stream",
     "text": [
      "Type the number of the Choice you would like or type 'draw' to draw a card. draw\n"
     ]
    },
    {
     "name": "stdout",
     "output_type": "stream",
     "text": [
      "Human Player draws a card.\n",
      "The top card is 5 of Hearts\n",
      "--------------------\n",
      "TURN 8\n",
      "\n",
      "Human Player's Hand:\n",
      "--------------------\n",
      "Choice 1: 8 of Clubs\n",
      "Choice 2: 9 of Clubs\n",
      "Choice 3: J of Clubs\n",
      "Choice 4: J of Diamonds\n",
      "Choice 5: 6 of Spades\n",
      "Choice 6: 8 of Spades\n",
      "Choice 7: K of Spades\n",
      "\n",
      "TURN OPTIONS:\n",
      "- Play a card\n",
      "- Draw a card\n",
      "--------------------\n"
     ]
    },
    {
     "name": "stdin",
     "output_type": "stream",
     "text": [
      "Type the number of the Choice you would like or type 'draw' to draw a card. draw\n"
     ]
    },
    {
     "name": "stdout",
     "output_type": "stream",
     "text": [
      "Human Player draws a card.\n",
      "The top card is 5 of Hearts\n",
      "--------------------\n",
      "TURN 8\n",
      "\n",
      "Human Player's Hand:\n",
      "--------------------\n",
      "Choice 1: 8 of Clubs\n",
      "Choice 2: 9 of Clubs\n",
      "Choice 3: J of Clubs\n",
      "Choice 4: 8 of Diamonds\n",
      "Choice 5: J of Diamonds\n",
      "Choice 6: 6 of Spades\n",
      "Choice 7: 8 of Spades\n",
      "Choice 8: K of Spades\n",
      "\n",
      "TURN OPTIONS:\n",
      "- Play a card\n",
      "- Draw a card\n",
      "--------------------\n"
     ]
    },
    {
     "name": "stdin",
     "output_type": "stream",
     "text": [
      "Type the number of the Choice you would like or type 'draw' to draw a card. draw\n"
     ]
    },
    {
     "name": "stdout",
     "output_type": "stream",
     "text": [
      "Human Player draws a card.\n",
      "The top card is 5 of Hearts\n",
      "--------------------\n",
      "TURN 8\n",
      "\n",
      "Human Player's Hand:\n",
      "--------------------\n",
      "Choice 1: 8 of Clubs\n",
      "Choice 2: 9 of Clubs\n",
      "Choice 3: J of Clubs\n",
      "Choice 4: 8 of Diamonds\n",
      "Choice 5: J of Diamonds\n",
      "Choice 6: 2 of Spades\n",
      "Choice 7: 6 of Spades\n",
      "Choice 8: 8 of Spades\n",
      "Choice 9: K of Spades\n",
      "\n",
      "TURN OPTIONS:\n",
      "- Play a card\n",
      "- Draw a card\n",
      "--------------------\n"
     ]
    },
    {
     "name": "stdin",
     "output_type": "stream",
     "text": [
      "Type the number of the Choice you would like or type 'draw' to draw a card. draw\n"
     ]
    },
    {
     "name": "stdout",
     "output_type": "stream",
     "text": [
      "Human Player draws a card.\n",
      "The top card is 5 of Hearts\n",
      "--------------------\n",
      "TURN 8\n",
      "\n",
      "Human Player's Hand:\n",
      "--------------------\n",
      "Choice 1: 8 of Clubs\n",
      "Choice 2: 9 of Clubs\n",
      "Choice 3: 10 of Clubs\n",
      "Choice 4: J of Clubs\n",
      "Choice 5: 8 of Diamonds\n",
      "Choice 6: J of Diamonds\n",
      "Choice 7: 2 of Spades\n",
      "Choice 8: 6 of Spades\n",
      "Choice 9: 8 of Spades\n",
      "Choice 10: K of Spades\n",
      "\n",
      "TURN OPTIONS:\n",
      "- Play a card\n",
      "- Draw a card\n",
      "--------------------\n"
     ]
    },
    {
     "name": "stdin",
     "output_type": "stream",
     "text": [
      "Type the number of the Choice you would like or type 'draw' to draw a card. draw\n"
     ]
    },
    {
     "name": "stdout",
     "output_type": "stream",
     "text": [
      "Human Player draws a card.\n",
      "The top card is 5 of Hearts\n",
      "--------------------\n",
      "TURN 8\n",
      "\n",
      "Human Player's Hand:\n",
      "--------------------\n",
      "Choice 1: 8 of Clubs\n",
      "Choice 2: 9 of Clubs\n",
      "Choice 3: 10 of Clubs\n",
      "Choice 4: J of Clubs\n",
      "Choice 5: 8 of Diamonds\n",
      "Choice 6: J of Diamonds\n",
      "Choice 7: Q of Diamonds\n",
      "Choice 8: 2 of Spades\n",
      "Choice 9: 6 of Spades\n",
      "Choice 10: 8 of Spades\n",
      "Choice 11: K of Spades\n",
      "\n",
      "TURN OPTIONS:\n",
      "- Play a card\n",
      "- Draw a card\n",
      "--------------------\n"
     ]
    },
    {
     "name": "stdin",
     "output_type": "stream",
     "text": [
      "Type the number of the Choice you would like or type 'draw' to draw a card. draw\n"
     ]
    },
    {
     "name": "stdout",
     "output_type": "stream",
     "text": [
      "Human Player draws a card.\n",
      "The top card is 5 of Hearts\n",
      "--------------------\n",
      "TURN 8\n",
      "\n",
      "Human Player's Hand:\n",
      "--------------------\n",
      "Choice 1: 8 of Clubs\n",
      "Choice 2: 9 of Clubs\n",
      "Choice 3: 10 of Clubs\n",
      "Choice 4: J of Clubs\n",
      "Choice 5: 8 of Diamonds\n",
      "Choice 6: J of Diamonds\n",
      "Choice 7: Q of Diamonds\n",
      "Choice 8: 7 of Hearts\n",
      "Choice 9: 2 of Spades\n",
      "Choice 10: 6 of Spades\n",
      "Choice 11: 8 of Spades\n",
      "Choice 12: K of Spades\n",
      "\n",
      "TURN OPTIONS:\n",
      "- Play a card\n",
      "- Draw a card\n",
      "--------------------\n"
     ]
    },
    {
     "name": "stdin",
     "output_type": "stream",
     "text": [
      "Type the number of the Choice you would like or type 'draw' to draw a card. 8\n"
     ]
    },
    {
     "name": "stdout",
     "output_type": "stream",
     "text": [
      "\n",
      "Human Player put down 7 of Hearts\n",
      "\n",
      "Computer Player has 2 cards.\n",
      "Computer Player draws a card.\n",
      "Computer Player has 3 cards.\n",
      "Computer Player draws a card.\n",
      "Computer Player has 4 cards.\n",
      "Computer Player draws a card.\n",
      "Computer Player has 5 cards.\n",
      "Computer Player put down 7 of Diamonds\n",
      "\n",
      "Current Top Card: 7 of Diamonds\n",
      "--------------------\n",
      "TURN 9\n",
      "\n",
      "Human Player's Hand:\n",
      "--------------------\n",
      "Choice 1: 8 of Clubs\n",
      "Choice 2: 9 of Clubs\n",
      "Choice 3: 10 of Clubs\n",
      "Choice 4: J of Clubs\n",
      "Choice 5: 8 of Diamonds\n",
      "Choice 6: J of Diamonds\n",
      "Choice 7: Q of Diamonds\n",
      "Choice 8: 2 of Spades\n",
      "Choice 9: 6 of Spades\n",
      "Choice 10: 8 of Spades\n",
      "Choice 11: K of Spades\n",
      "\n",
      "TURN OPTIONS:\n",
      "- Play a card\n",
      "- Draw a card\n",
      "--------------------\n"
     ]
    },
    {
     "name": "stdin",
     "output_type": "stream",
     "text": [
      "Type the number of the Choice you would like or type 'draw' to draw a card. 5\n",
      "Declare a suit: Clubs, Diamonds, Hearts, or Spades. spades\n"
     ]
    },
    {
     "name": "stdout",
     "output_type": "stream",
     "text": [
      "Human Player declares the suit spades\n",
      "\n",
      "Human Player put down 8 of spades\n",
      "\n",
      "Computer Player has 4 cards.\n",
      "Computer Player put down Q of Spades\n",
      "\n",
      "Current Top Card: Q of Spades\n",
      "--------------------\n",
      "TURN 10\n",
      "\n",
      "Human Player's Hand:\n",
      "--------------------\n",
      "Choice 1: 8 of Clubs\n",
      "Choice 2: 9 of Clubs\n",
      "Choice 3: 10 of Clubs\n",
      "Choice 4: J of Clubs\n",
      "Choice 5: J of Diamonds\n",
      "Choice 6: Q of Diamonds\n",
      "Choice 7: 2 of Spades\n",
      "Choice 8: 6 of Spades\n",
      "Choice 9: 8 of Spades\n",
      "Choice 10: K of Spades\n",
      "\n",
      "TURN OPTIONS:\n",
      "- Play a card\n",
      "- Draw a card\n",
      "--------------------\n"
     ]
    }
   ],
   "source": [
    "b = CrazyEights()\n",
    "b.play()"
   ]
  },
  {
   "cell_type": "code",
   "execution_count": null,
   "metadata": {},
   "outputs": [],
   "source": []
  }
 ],
 "metadata": {
  "kernelspec": {
   "display_name": "Python 3",
   "language": "python",
   "name": "python3"
  },
  "language_info": {
   "codemirror_mode": {
    "name": "ipython",
    "version": 3
   },
   "file_extension": ".py",
   "mimetype": "text/x-python",
   "name": "python",
   "nbconvert_exporter": "python",
   "pygments_lexer": "ipython3",
   "version": "3.7.4"
  }
 },
 "nbformat": 4,
 "nbformat_minor": 4
}
