{
 "cells": [
  {
   "cell_type": "markdown",
   "metadata": {},
   "source": [
    "# L30  Python Classes and Card Games\n"
   ]
  },
  {
   "cell_type": "markdown",
   "metadata": {},
   "source": [
    "First we define a class representing a playing card"
   ]
  },
  {
   "cell_type": "code",
   "execution_count": 1,
   "metadata": {},
   "outputs": [],
   "source": [
    "import random"
   ]
  },
  {
   "cell_type": "code",
   "execution_count": 11,
   "metadata": {},
   "outputs": [],
   "source": [
    "class Card:\n",
    "    \"\"\" Card represents a standard playing card \"\"\"\n",
    "\n",
    "    def __init__(self,suit,value):\n",
    "        self.suit = suit\n",
    "        self.value = value\n",
    "        \n",
    "    def __str__(self):\n",
    "        return str(self.value) + \" of \" + str(self.suit)\n",
    "    \n",
    "    def __repr__(self):\n",
    "        return 'Card(\"'  +  self.suit +  '\",\"'  +  self.value +  '\")'\n",
    "    \n",
    "    def __eq__(self,other):\n",
    "        \"\"\"Overrides the default implementation\"\"\"\n",
    "        if isinstance(other, Card):\n",
    "            return self.suit == other.suit and self.value==other.value\n",
    "        return False\n",
    "    \n",
    "    def val(self,game='usual'):\n",
    "        \"\"\" this returns the numeric value of a card \"\"\"\n",
    "        if game=='usual':\n",
    "            if self.value in \"2 3 4 5 6 7 8 9 10\".split():\n",
    "                return int(self.value)\n",
    "            elif self.value == \"J\":\n",
    "                return 11\n",
    "            elif self.value == \"Q\":\n",
    "                return 12\n",
    "            elif self.value == \"K\":\n",
    "                return 13\n",
    "            elif self.value == \"A\":\n",
    "                return 14\n",
    "        elif game=='blackjack':\n",
    "            if self.value in \"2 3 4 5 6 7 8 9 10\".split():\n",
    "                return int(self.value)\n",
    "            elif self.value == \"J\":\n",
    "                return 10\n",
    "            elif self.value == \"Q\":\n",
    "                return 10\n",
    "            elif self.value == \"K\":\n",
    "                return 10\n",
    "            elif self.value == \"A\":\n",
    "                return 11\n",
    "        \n",
    "        "
   ]
  },
  {
   "cell_type": "markdown",
   "metadata": {},
   "source": [
    "Let's show how it can be used. In the code box below we create a card, store it in the variable c1, print it (which will invoke __str__), prints its numeric value, and the let Jupyter print it (which will invoke __repr__)\n",
    "\n",
    "__str__ is to create a nice human readable version\n",
    "__repr__ is to create a version that can be evaluated to regenerate the object"
   ]
  },
  {
   "cell_type": "code",
   "execution_count": 10,
   "metadata": {},
   "outputs": [
    {
     "name": "stdout",
     "output_type": "stream",
     "text": [
      "Q of Hearts\n",
      "usual 12\n",
      "blackjack 12\n"
     ]
    },
    {
     "data": {
      "text/plain": [
       "Card(\"Hearts\",\"Q\")"
      ]
     },
     "execution_count": 10,
     "metadata": {},
     "output_type": "execute_result"
    }
   ],
   "source": [
    "c1 = Card(\"Hearts\",\"Q\")\n",
    "print(c1)\n",
    "print('usual',    c1.val())\n",
    "print('blackjack',c1.val(jokers=True))\n",
    "c1"
   ]
  },
  {
   "cell_type": "code",
   "execution_count": 4,
   "metadata": {},
   "outputs": [
    {
     "name": "stdout",
     "output_type": "stream",
     "text": [
      "8 of Hearts\n"
     ]
    }
   ],
   "source": [
    "c2 = Card(\"Hearts\",\"8\")\n",
    "print(c2)"
   ]
  },
  {
   "cell_type": "markdown",
   "metadata": {},
   "source": [
    "## Next we make a Deck of Cards\n",
    "A deck is a list of 52 cards initially.\n",
    "Typically we take cards out of the deck and give them to other players or put them in a discard pile.  We represent this with two attributes: cards and discards.\n"
   ]
  },
  {
   "cell_type": "code",
   "execution_count": 14,
   "metadata": {},
   "outputs": [],
   "source": [
    "class Deck:\n",
    "    \"\"\" this represents a deck of 52 standard playing cards \"\"\"\n",
    "    def __init__(self):\n",
    "        self.cards = self._createDeck()\n",
    "        self.discards = []\n",
    "    \n",
    "    def _createDeck(self):\n",
    "        cards = []\n",
    "        for suit in \"Hearts Spades Diamonds Clubs\".split():\n",
    "            for value in \"A 2 3 4 5 6 7 8 9 10 J Q K\".split():\n",
    "                cards.append(Card(suit,value))\n",
    "        return cards\n",
    "    \n",
    "    def shuffle(self):\n",
    "        \"\"\" shuffle the deck in place \"\"\"\n",
    "        random.shuffle(self.cards)\n",
    "        \n",
    "    def draw(self):\n",
    "        \"\"\" remove top card from the deck and put in discards\n",
    "            and return that top card\n",
    "        \"\"\"\n",
    "        c = self.cards[0]\n",
    "        self.cards = self.cards[1:]\n",
    "        self.discards.append(c)\n",
    "        return(c)\n",
    "    \n",
    "    def drawN(self,n):\n",
    "        \"\"\" this returns a list of the first n cards in the deck\n",
    "            and it moves them from d.cards to d.discards\n",
    "        \"\"\"\n",
    "        c = self.cards[:n]\n",
    "        self.cards = self.cards[n:]\n",
    "        self.discards += c\n",
    "        return(c)\n"
   ]
  },
  {
   "cell_type": "markdown",
   "metadata": {},
   "source": [
    "This shows how we can use the Deck class.\n",
    "First we create a Deck, then we shuffle it and draw out 5 cards."
   ]
  },
  {
   "cell_type": "code",
   "execution_count": 6,
   "metadata": {},
   "outputs": [
    {
     "name": "stdout",
     "output_type": "stream",
     "text": [
      "[Card(\"Hearts\",\"4\"), Card(\"Diamonds\",\"6\"), Card(\"Clubs\",\"J\"), Card(\"Spades\",\"10\"), Card(\"Diamonds\",\"A\")]\n"
     ]
    }
   ],
   "source": [
    "d = Deck()\n",
    "d.shuffle()\n",
    "c1 = d.drawN(5)\n",
    "print(c1)\n"
   ]
  },
  {
   "cell_type": "markdown",
   "metadata": {},
   "source": [
    "Remember that you can ask Python to give information about a method or object using the built-in help function"
   ]
  },
  {
   "cell_type": "code",
   "execution_count": 7,
   "metadata": {},
   "outputs": [
    {
     "name": "stdout",
     "output_type": "stream",
     "text": [
      "Help on method shuffle in module random:\n",
      "\n",
      "shuffle(x, random=None) method of random.Random instance\n",
      "    Shuffle list x in place, and return None.\n",
      "    \n",
      "    Optional argument random is a 0-argument function returning a\n",
      "    random float in [0.0, 1.0); if it is the default None, the\n",
      "    standard random.random will be used.\n",
      "\n"
     ]
    }
   ],
   "source": [
    "help(random.shuffle)"
   ]
  },
  {
   "cell_type": "markdown",
   "metadata": {},
   "source": [
    "Our own classes can be described by the help function if we write good docstring comments at the top of each class definition and inside each method definition"
   ]
  },
  {
   "cell_type": "code",
   "execution_count": 8,
   "metadata": {},
   "outputs": [
    {
     "name": "stdout",
     "output_type": "stream",
     "text": [
      "Help on class Deck in module __main__:\n",
      "\n",
      "class Deck(builtins.object)\n",
      " |  this represents a deck of cards\n",
      " |  \n",
      " |  Methods defined here:\n",
      " |  \n",
      " |  __init__(self)\n",
      " |      Initialize self.  See help(type(self)) for accurate signature.\n",
      " |  \n",
      " |  draw(self)\n",
      " |      remove top card from the deck and put in discards\n",
      " |      and return that top card\n",
      " |  \n",
      " |  drawN(self, n)\n",
      " |      this returns a list of the first n cards in the deck\n",
      " |      and it moves them from d.cards to d.discards\n",
      " |  \n",
      " |  shuffle(self)\n",
      " |      shuffle the deck in place\n",
      " |  \n",
      " |  ----------------------------------------------------------------------\n",
      " |  Data descriptors defined here:\n",
      " |  \n",
      " |  __dict__\n",
      " |      dictionary for instance variables (if defined)\n",
      " |  \n",
      " |  __weakref__\n",
      " |      list of weak references to the object (if defined)\n",
      "\n"
     ]
    }
   ],
   "source": [
    "help(Deck)"
   ]
  },
  {
   "cell_type": "code",
   "execution_count": 9,
   "metadata": {},
   "outputs": [
    {
     "name": "stdout",
     "output_type": "stream",
     "text": [
      "Help on function drawN in module __main__:\n",
      "\n",
      "drawN(self, n)\n",
      "    this returns a list of the first n cards in the deck\n",
      "    and it moves them from d.cards to d.discards\n",
      "\n"
     ]
    }
   ],
   "source": [
    "help(Deck.drawN)"
   ]
  },
  {
   "cell_type": "markdown",
   "metadata": {},
   "source": [
    "# Creating a Card Game\n",
    "Now lets try to use these two classes, Card and Deck, to create a simple card game. Lets play the game \"War\" with two players - human and computer. The cards are all dealt out (26 for each player). \n",
    "\n",
    "They turn over their top card.  \n",
    "Which ever is higher takes the two cards and puts them on the bottom of their hand.\n",
    "If there is a tie, they repeat with two new cards; this continues until their is no tie and the winner takes all of those cards and puts them on the bottom of their hand. The player who wins all of the cards wins the game. \n",
    "It takes forever!! So we end the game after 100 battles, if neither player has won all the cards yet...\n"
   ]
  },
  {
   "cell_type": "code",
   "execution_count": 21,
   "metadata": {},
   "outputs": [],
   "source": [
    "class War:\n",
    "    def __init__(self,max_battles=10):\n",
    "        deck = Deck()\n",
    "        deck.shuffle()\n",
    "        self.hand1 = deck.drawN(26)\n",
    "        self.hand2 = deck.drawN(26)\n",
    "        self.discards = []\n",
    "        self.battles = 1\n",
    "        self.max_battles = max_battles\n",
    "    def play_one_battle(self):\n",
    "        print(\"====================\")\n",
    "        print(\"Battle Number\",self.battles)\n",
    "        self.battles += 1\n",
    "        card1 = self.hand1[0]\n",
    "        self.hand1=self.hand1[1:]\n",
    "        card2 = self.hand2[0]\n",
    "        self.hand2 = self.hand2[1:]\n",
    "        self.discards += [card1,card2]\n",
    "        print(\"Player 1 has\",len(self.hand1), \"cards and plays\",card1)\n",
    "        print(\"Player 2 had\",len(self.hand2), \"cards and plays\",card2)\n",
    "        if (card1.val()>card2.val()):\n",
    "            print(\"Player 1 wins the battle\")\n",
    "            self.hand1 += self.discards\n",
    "            self.discards = []\n",
    "        elif (card1.val()<card2.val()):\n",
    "            print(\"Player 2 wins the battle\")\n",
    "            self.hand2 += self.discards\n",
    "            self.discards=[]\n",
    "        if self.battles > self.max_battles:\n",
    "            return True\n",
    "        else:\n",
    "            return len(self.hand1)==0 or len(self.hand2)==0\n",
    "\n",
    "    def play_game(self):\n",
    "        done = False\n",
    "        while not done:\n",
    "            done = self.play_one_battle()\n",
    "        if (self.hand1==[]):\n",
    "            print(\"Player 2 won!\")\n",
    "        else:\n",
    "            print(\"Player 1 won!\")\n",
    "\n",
    "            "
   ]
  },
  {
   "cell_type": "code",
   "execution_count": 24,
   "metadata": {},
   "outputs": [],
   "source": [
    "w = War(max_battles=3)"
   ]
  },
  {
   "cell_type": "code",
   "execution_count": 25,
   "metadata": {},
   "outputs": [
    {
     "name": "stdout",
     "output_type": "stream",
     "text": [
      "====================\n",
      "Battle Number 1\n",
      "Player 1 has 25 cards and plays K of Hearts\n",
      "Player 2 had 25 cards and plays Q of Clubs\n",
      "Player 1 wins the battle\n",
      "====================\n",
      "Battle Number 2\n",
      "Player 1 has 26 cards and plays A of Hearts\n",
      "Player 2 had 24 cards and plays 3 of Hearts\n",
      "Player 1 wins the battle\n",
      "====================\n",
      "Battle Number 3\n",
      "Player 1 has 27 cards and plays A of Clubs\n",
      "Player 2 had 23 cards and plays 6 of Clubs\n",
      "Player 1 wins the battle\n",
      "Player 1 won!\n"
     ]
    }
   ],
   "source": [
    "w.play_game()"
   ]
  },
  {
   "cell_type": "markdown",
   "metadata": {},
   "source": [
    "# Next lets work on the Blackjack game\n",
    "Here the player plays against a dealer.\n",
    "\n",
    "The dealer deals two cards to each player, including themself.\n",
    "\n",
    "The players then each either pass or ask to be hit, one or more times. Each time they are hit they get a new card.  The goal is to have a higher score that the dealer with out exceeding 21."
   ]
  },
  {
   "cell_type": "code",
   "execution_count": 33,
   "metadata": {},
   "outputs": [],
   "source": [
    "class BlackJack:\n",
    "    def __init__(self):\n",
    "        self.cards = Deck()\n",
    "        self.cards.shuffle()\n",
    "        \n",
    "    def play(self):\n",
    "        dealer = self.cards.drawN(2)\n",
    "        human = self.cards.drawN(2)\n",
    "        print('dealer:',dealer[0],'hidden')\n",
    "        print('player:',human[0],human[1])\n",
    "        print('-------')\n",
    "        print(\"You go first\")\n",
    "        human_hand = self.get_hit_human(human)\n",
    "        print('-------')\n",
    "        print(\"Now the Dealer's turn\")\n",
    "        dealer_hand = self.get_hit_dealer(dealer)\n",
    "        print('-------')\n",
    "        print(\"Game over:\")\n",
    "        if self.val(human)>self.val(dealer):\n",
    "            print(\"You won!\")\n",
    "        else:\n",
    "            print(\"The Dealer won\")\n",
    "        print('you')\n",
    "        self.print_hand(human)\n",
    "        print('dealer')\n",
    "        self.print_hand(dealer)\n",
    " \n",
    "    \n",
    "    def val(self,hand):\n",
    "        v = sum([c.val('blackjack') for c in hand])\n",
    "        if v>21:\n",
    "            return 0\n",
    "        else:\n",
    "            return v\n",
    "    \n",
    "    def print_hand(self,hand):\n",
    "        print(self.val(hand),'points',end=\": \")\n",
    "        for c in hand:\n",
    "            print(c,end=\" \")\n",
    "        print()\n",
    "        \n",
    "    def get_hit_human(self,player):\n",
    "        more = True\n",
    "        while more:\n",
    "            handvalue = self.val(player)\n",
    "            if handvalue==0:\n",
    "                self.print_hand(player)\n",
    "                print(\"You lost\")\n",
    "                return player\n",
    "            self.print_hand(player)\n",
    "            hit = input(\"Hit? (y or n) \")\n",
    "            more = (hit=='y')\n",
    "            if more:\n",
    "                player += self.cards.drawN(1)\n",
    "                handvalue = self.val(player)\n",
    "            else:\n",
    "                print(\"player stays\")\n",
    "                self.print_hand(player)\n",
    "        return player\n",
    "    \n",
    "    def get_hit_dealer(self,player):\n",
    "        more = True\n",
    "        self.print_hand(player)\n",
    "        while more:\n",
    "            handvalue = self.val(player)\n",
    "            if handvalue==0:\n",
    "                print(\"Dealer lost\")\n",
    "                return player\n",
    "            more = (handvalue<17) and (handvalue>0)         \n",
    "            if more:\n",
    "                print('Dealer is hit')\n",
    "                player += self.cards.drawN(1)\n",
    "                handvalue = self.val(player)\n",
    "                self.print_hand(player)\n",
    "            else:\n",
    "                print('Dealer stays')\n",
    "                self.print_hand(player)\n",
    "        return player\n",
    "    \n",
    "    "
   ]
  },
  {
   "cell_type": "code",
   "execution_count": 34,
   "metadata": {},
   "outputs": [
    {
     "name": "stdout",
     "output_type": "stream",
     "text": [
      "dealer: 8 of Clubs hidden\n",
      "player: 9 of Clubs 4 of Clubs\n",
      "-------\n",
      "You go first\n",
      "13 points: 9 of Clubs 4 of Clubs \n"
     ]
    },
    {
     "name": "stdin",
     "output_type": "stream",
     "text": [
      "Hit? (y or n)  y\n"
     ]
    },
    {
     "name": "stdout",
     "output_type": "stream",
     "text": [
      "15 points: 9 of Clubs 4 of Clubs 2 of Diamonds \n"
     ]
    },
    {
     "name": "stdin",
     "output_type": "stream",
     "text": [
      "Hit? (y or n)  y\n"
     ]
    },
    {
     "name": "stdout",
     "output_type": "stream",
     "text": [
      "0 points: 9 of Clubs 4 of Clubs 2 of Diamonds K of Clubs \n",
      "You lost\n",
      "-------\n",
      "Now the Dealer's turn\n",
      "10 points: 8 of Clubs 2 of Clubs \n",
      "Dealer is hit\n",
      "17 points: 8 of Clubs 2 of Clubs 7 of Hearts \n",
      "Dealer stays\n",
      "17 points: 8 of Clubs 2 of Clubs 7 of Hearts \n",
      "-------\n",
      "Game over:\n",
      "The Dealer won\n",
      "you\n",
      "0 points: 9 of Clubs 4 of Clubs 2 of Diamonds K of Clubs \n",
      "dealer\n",
      "17 points: 8 of Clubs 2 of Clubs 7 of Hearts \n"
     ]
    }
   ],
   "source": [
    "b = BlackJack()\n",
    "b.play()\n"
   ]
  },
  {
   "cell_type": "code",
   "execution_count": 28,
   "metadata": {},
   "outputs": [
    {
     "name": "stdout",
     "output_type": "stream",
     "text": [
      "dealer: 8 of Hearts hidden\n",
      "player: 10 of Hearts J of Hearts\n",
      "-------\n",
      "You go first\n",
      "20 points: 10 of Hearts J of Hearts \n"
     ]
    },
    {
     "name": "stdin",
     "output_type": "stream",
     "text": [
      "Hit? (y or n)  n\n"
     ]
    },
    {
     "name": "stdout",
     "output_type": "stream",
     "text": [
      "player stays\n",
      "20 points: 10 of Hearts J of Hearts \n",
      "-------\n",
      "Now the Dealer's turn\n",
      "17 points: 8 of Hearts 9 of Hearts \n",
      "Dealer stays\n",
      "17 points: 8 of Hearts 9 of Hearts \n",
      "-------\n",
      "Game over:\n",
      "You won!\n",
      "you\n",
      "20 points: 10 of Hearts J of Hearts \n",
      "dealer\n",
      "17 points: 8 of Hearts 9 of Hearts \n"
     ]
    }
   ],
   "source": [
    "b.play()"
   ]
  },
  {
   "cell_type": "code",
   "execution_count": 16,
   "metadata": {},
   "outputs": [],
   "source": [
    "x = [1,2]\n",
    "x.append(5)"
   ]
  },
  {
   "cell_type": "code",
   "execution_count": 17,
   "metadata": {},
   "outputs": [
    {
     "data": {
      "text/plain": [
       "[1, 2, 5]"
      ]
     },
     "execution_count": 17,
     "metadata": {},
     "output_type": "execute_result"
    }
   ],
   "source": [
    "x\n"
   ]
  },
  {
   "cell_type": "code",
   "execution_count": null,
   "metadata": {},
   "outputs": [],
   "source": [
    "b = "
   ]
  }
 ],
 "metadata": {
  "kernelspec": {
   "display_name": "Python 3",
   "language": "python",
   "name": "python3"
  },
  "language_info": {
   "codemirror_mode": {
    "name": "ipython",
    "version": 3
   },
   "file_extension": ".py",
   "mimetype": "text/x-python",
   "name": "python",
   "nbconvert_exporter": "python",
   "pygments_lexer": "ipython3",
   "version": "3.7.4"
  }
 },
 "nbformat": 4,
 "nbformat_minor": 4
}
