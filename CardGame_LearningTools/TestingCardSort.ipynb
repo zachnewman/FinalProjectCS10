{
 "cells": [
  {
   "cell_type": "code",
   "execution_count": 1,
   "metadata": {},
   "outputs": [],
   "source": [
    "from Cards_and_Deck import Card\n",
    "from Cards_and_Deck import Deck"
   ]
  },
  {
   "cell_type": "code",
   "execution_count": 36,
   "metadata": {},
   "outputs": [
    {
     "name": "stdout",
     "output_type": "stream",
     "text": [
      "8 of Hearts\n",
      "10 of Hearts\n",
      "6 of Spades\n",
      "3 of Clubs\n",
      "5 of Diamonds\n",
      "J of Hearts\n",
      "10 of Clubs\n",
      "Q of Clubs\n",
      "4 of Diamonds\n",
      "[Card(\"Hearts\",\"8\"), Card(\"Hearts\",\"10\"), Card(\"Spades\",\"6\"), Card(\"Clubs\",\"3\"), Card(\"Diamonds\",\"5\"), Card(\"Hearts\",\"J\"), Card(\"Clubs\",\"10\"), Card(\"Clubs\",\"Q\"), Card(\"Diamonds\",\"4\")]\n",
      "------------\n",
      "[Card(\"Clubs\",\"3\"), Card(\"Clubs\",\"10\"), Card(\"Clubs\",\"Q\"), Card(\"Diamonds\",\"4\"), Card(\"Diamonds\",\"5\"), Card(\"Hearts\",\"8\"), Card(\"Hearts\",\"10\"), Card(\"Hearts\",\"J\"), Card(\"Spades\",\"6\")]\n"
     ]
    }
   ],
   "source": [
    "c = Deck()\n",
    "c.shuffle()\n",
    "human = c.drawN(9)\n",
    "for x in human:\n",
    "    print(x)\n",
    "print(human)\n",
    "def sortValue(x):\n",
    "    sortvalue = Card.val(x)\n",
    "    return sortvalue\n",
    "def sortSuit(x):\n",
    "    return x.suit\n",
    "    \n",
    "human.sort(key=sortValue)\n",
    "human.sort(key=sortSuit)\n",
    "print(\"------------\")\n",
    "print(human)"
   ]
  },
  {
   "cell_type": "code",
   "execution_count": null,
   "metadata": {},
   "outputs": [],
   "source": []
  }
 ],
 "metadata": {
  "kernelspec": {
   "display_name": "Python 3",
   "language": "python",
   "name": "python3"
  },
  "language_info": {
   "codemirror_mode": {
    "name": "ipython",
    "version": 3
   },
   "file_extension": ".py",
   "mimetype": "text/x-python",
   "name": "python",
   "nbconvert_exporter": "python",
   "pygments_lexer": "ipython3",
   "version": "3.7.4"
  }
 },
 "nbformat": 4,
 "nbformat_minor": 4
}
