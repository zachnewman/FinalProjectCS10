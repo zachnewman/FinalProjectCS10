{
 "cells": [
  {
   "cell_type": "code",
   "execution_count": 1,
   "metadata": {},
   "outputs": [
    {
     "data": {
      "text/plain": [
       "\"Casino Hold'Em Poker\""
      ]
     },
     "execution_count": 1,
     "metadata": {},
     "output_type": "execute_result"
    }
   ],
   "source": [
    "\"Casino Hold'Em Poker\""
   ]
  },
  {
   "cell_type": "code",
   "execution_count": 6,
   "metadata": {},
   "outputs": [],
   "source": [
    "from Cards_and_Deck import Card\n",
    "from Cards_and_Deck import Deck"
   ]
  },
  {
   "cell_type": "code",
   "execution_count": null,
   "metadata": {},
   "outputs": [],
   "source": [
    "class CasinoHoldEm:\n",
    "    def __init__(self):\n",
    "        self.cards = Deck()\n",
    "        self.cards.shuffle()\n",
    "        \n",
    "    def play(self):\n",
    "        print(\"Make ante bet + optional jackpot bet\")\n",
    "        dealer = self.cards.drawN(2)\n",
    "        human = self.cards.drawN(2)\n",
    "        print(\"Dealer: Hidden\")\n",
    "        print(\"You:\",human[0],\"and\",human[1])\n",
    "        community = self.cards.drawN(3)\n",
    "        print(\"Community Cards:\",community[0],\"and\",community[1])\n",
    "        print(\"To play your hand, you have to CALL and bet double your ante. If not, FOLD + lose ante\")\n",
    "        print(\"Player decides to CALL and bets double ante\")\n",
    "        community = self.cards.drawN(2)\n",
    "        print(\"Community Cards:\",community[0],community[1],community[2],community[3],community[4])\n",
    "        print(\"If the dealer's hand is pair 4's or better, dealer qualifies\")\n",
    "        \n",
    "        "
   ]
  }
 ],
 "metadata": {
  "kernelspec": {
   "display_name": "Python 3",
   "language": "python",
   "name": "python3"
  },
  "language_info": {
   "codemirror_mode": {
    "name": "ipython",
    "version": 3
   },
   "file_extension": ".py",
   "mimetype": "text/x-python",
   "name": "python",
   "nbconvert_exporter": "python",
   "pygments_lexer": "ipython3",
   "version": "3.7.4"
  }
 },
 "nbformat": 4,
 "nbformat_minor": 4
}
