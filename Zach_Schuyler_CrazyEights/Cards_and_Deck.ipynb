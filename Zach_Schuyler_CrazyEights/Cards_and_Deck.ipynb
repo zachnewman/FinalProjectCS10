{
 "cells": [
  {
   "cell_type": "code",
   "execution_count": 1,
   "metadata": {},
   "outputs": [],
   "source": [
    "import random"
   ]
  },
  {
   "cell_type": "code",
   "execution_count": 2,
   "metadata": {},
   "outputs": [],
   "source": [
    "class Card:\n",
    "    \"\"\" Card represents a standard playing card \"\"\"\n",
    "\n",
    "    def __init__(self,suit,value):\n",
    "        self.suit = suit\n",
    "        self.value = value\n",
    "        \n",
    "    def __str__(self):\n",
    "        return str(self.value) + \" of \" + str(self.suit)\n",
    "    \n",
    "    def __repr__(self):\n",
    "        return 'Card(\"'  +  self.suit +  '\",\"'  +  self.value +  '\")'\n",
    "    \n",
    "    def __eq__(self,other):\n",
    "        \"\"\"Overrides the default implementation\"\"\"\n",
    "        if isinstance(other, Card):\n",
    "            return self.suit == other.suit and self.value==other.value\n",
    "        return False\n",
    "    \n",
    "    def val(self):\n",
    "        \"\"\" this returns the numeric value of a card \"\"\"\n",
    "        if self.value in \"2 3 4 5 6 7 8 9\".split():\n",
    "            return int(self.value)\n",
    "        elif self.value == \"10\":\n",
    "            return 10\n",
    "        elif self.value == \"J\":\n",
    "            return 11\n",
    "        elif self.value == \"Q\":\n",
    "            return 12\n",
    "        elif self.value == \"K\":\n",
    "            return 13\n",
    "        elif self.value == \"A\":\n",
    "            return 14\n",
    "        \n",
    "    \n",
    "class Deck:\n",
    "    \"\"\" this represents a deck of cards \"\"\"\n",
    "    def __init__(self):\n",
    "        self.cards = self._createDeck()\n",
    "        self.discards = []\n",
    "    \n",
    "    def _createDeck(self):\n",
    "        cards = []\n",
    "        for suit in \"Hearts Spades Diamonds Clubs\".split():\n",
    "            for value in \"A 2 3 4 5 6 7 8 9 10 J Q K\".split():\n",
    "                cards.append(Card(suit,value))\n",
    "        return cards\n",
    "    \n",
    "    def shuffle(self):\n",
    "        \"\"\" shuffle the deck in place \"\"\"\n",
    "        random.shuffle(self.cards)\n",
    "        \n",
    "    def draw(self):\n",
    "        \"\"\" remove top card from the deck and put in discards\n",
    "            and return that top card\n",
    "        \"\"\"\n",
    "        c = self.cards[0]\n",
    "        self.cards = self.cards[1:]\n",
    "        self.discards.append(c)\n",
    "        return(c)\n",
    "    \n",
    "    def drawN(self,n):\n",
    "        \"\"\" this returns a list of the first n cards in the deck\n",
    "            and it moves them from d.cards to d.discards\n",
    "        \"\"\"\n",
    "        c = self.cards[:n]\n",
    "        self.cards = self.cards[n:]\n",
    "        self.discards += c\n",
    "        return(c)\n"
   ]
  },
  {
   "cell_type": "code",
   "execution_count": null,
   "metadata": {},
   "outputs": [],
   "source": []
  },
  {
   "cell_type": "code",
   "execution_count": null,
   "metadata": {},
   "outputs": [],
   "source": []
  }
 ],
 "metadata": {
  "kernelspec": {
   "display_name": "Python 3",
   "language": "python",
   "name": "python3"
  },
  "language_info": {
   "codemirror_mode": {
    "name": "ipython",
    "version": 3
   },
   "file_extension": ".py",
   "mimetype": "text/x-python",
   "name": "python",
   "nbconvert_exporter": "python",
   "pygments_lexer": "ipython3",
   "version": "3.7.4"
  }
 },
 "nbformat": 4,
 "nbformat_minor": 4
}
