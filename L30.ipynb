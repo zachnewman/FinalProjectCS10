{
 "cells": [
  {
   "cell_type": "markdown",
   "metadata": {},
   "source": [
    "# L30  Python Classes and Card Games\n"
   ]
  },
  {
   "cell_type": "markdown",
   "metadata": {},
   "source": [
    "First we define a class representing a playing card"
   ]
  },
  {
   "cell_type": "code",
   "execution_count": 17,
   "metadata": {},
   "outputs": [],
   "source": [
    "import random"
   ]
  },
  {
   "cell_type": "code",
   "execution_count": 10,
   "metadata": {},
   "outputs": [],
   "source": [
    "class Card:\n",
    "    \"\"\" Card represents a standard playing card \"\"\"\n",
    "\n",
    "    def __init__(self,suit,value):\n",
    "        self.suit = suit\n",
    "        self.value = value\n",
    "        \n",
    "    def __str__(self):\n",
    "        return str(self.value) + \" of \" + str(self.suit)\n",
    "    \n",
    "    def __repr__(self):\n",
    "        return 'Card(\"'  +  self.suit +  '\",\"'  +  self.value +  '\")'\n",
    "    \n",
    "    def __eq__(self,other):\n",
    "        \"\"\"Overrides the default implementation\"\"\"\n",
    "        if isinstance(other, Card):\n",
    "            return self.suit == other.suit and self.value==other.value\n",
    "        return False\n",
    "    \n",
    "    def val(self):\n",
    "        \"\"\" this returns the numeric value of a card \"\"\"\n",
    "        if self.value in \"2 3 4 5 6 7 8 9 10\".split():\n",
    "            return int(self.value)\n",
    "        elif self.value == \"J\":\n",
    "            return 11\n",
    "        elif self.value == \"Q\":\n",
    "            return 12\n",
    "        elif self.value == \"K\":\n",
    "            return 13\n",
    "        elif self.value == \"A\":\n",
    "            return 14\n",
    "        \n",
    "        "
   ]
  },
  {
   "cell_type": "markdown",
   "metadata": {},
   "source": [
    "Let's show how it can be used. In the code box below we create a card, store it in the variable c1, print it (which will invoke __str__), prints its numeric value, and the let Jupyter print it (which will invoke __repr__)\n",
    "\n",
    "__str__ is to create a nice human readable version\n",
    "__repr__ is to create a version that can be evaluated to regenerate the object"
   ]
  },
  {
   "cell_type": "code",
   "execution_count": 7,
   "metadata": {},
   "outputs": [
    {
     "name": "stdout",
     "output_type": "stream",
     "text": [
      "8 of Hearts\n",
      "8\n"
     ]
    },
    {
     "data": {
      "text/plain": [
       "Card(\"Hearts\",\"8\")"
      ]
     },
     "execution_count": 7,
     "metadata": {},
     "output_type": "execute_result"
    }
   ],
   "source": [
    "c1 = Card(\"Hearts\",\"8\")\n",
    "print(c1)\n",
    "print(c1.val())\n",
    "c1"
   ]
  },
  {
   "cell_type": "code",
   "execution_count": 9,
   "metadata": {},
   "outputs": [
    {
     "name": "stdout",
     "output_type": "stream",
     "text": [
      "8 of Hearts\n"
     ]
    }
   ],
   "source": [
    "c2 = Card(\"Hearts\",\"8\")\n",
    "print(c2)"
   ]
  },
  {
   "cell_type": "markdown",
   "metadata": {},
   "source": [
    "## Next we make a Deck of Cards\n",
    "A deck is a list of 52 cards initially.\n",
    "Typically we take cards out of the deck and give them to other players or put them in a discard pile.  We represent this with two attributes: cards and discards.\n"
   ]
  },
  {
   "cell_type": "code",
   "execution_count": 47,
   "metadata": {},
   "outputs": [],
   "source": [
    "class Deck:\n",
    "    \"\"\" this represents a deck of cards \"\"\"\n",
    "    def __init__(self):\n",
    "        self.cards = self._createDeck()\n",
    "        self.discards = []\n",
    "    \n",
    "    def _createDeck(self):\n",
    "        cards = []\n",
    "        for suit in \"Hearts Spades Diamonds Clubs\".split():\n",
    "            for value in \"A 2 3 4 5 6 7 8 9 10 J Q K\".split():\n",
    "                cards.append(Card(suit,value))\n",
    "        return cards\n",
    "    \n",
    "    def shuffle(self):\n",
    "        \"\"\" shuffle the deck in place \"\"\"\n",
    "        random.shuffle(self.cards)\n",
    "        \n",
    "    def draw(self):\n",
    "        \"\"\" remove top card from the deck and put in discards\n",
    "            and return that top card\n",
    "        \"\"\"\n",
    "        c = self.cards[0]\n",
    "        self.cards = self.cards[1:]\n",
    "        self.discards.append(c)\n",
    "        return(c)\n",
    "    \n",
    "    def drawN(self,n):\n",
    "        \"\"\" this returns a list of the first n cards in the deck\n",
    "            and it moves them from d.cards to d.discards\n",
    "        \"\"\"\n",
    "        c = self.cards[:n]\n",
    "        self.cards = self.cards[n:]\n",
    "        self.discards += c\n",
    "        return(c)\n"
   ]
  },
  {
   "cell_type": "markdown",
   "metadata": {},
   "source": [
    "This shows how we can use the Deck class.\n",
    "First we create a Deck, then we shuffle it and draw out 5 cards."
   ]
  },
  {
   "cell_type": "code",
   "execution_count": 51,
   "metadata": {},
   "outputs": [
    {
     "name": "stdout",
     "output_type": "stream",
     "text": [
      "[Card(\"Clubs\",\"Q\"), Card(\"Hearts\",\"10\"), Card(\"Hearts\",\"3\"), Card(\"Spades\",\"J\"), Card(\"Diamonds\",\"4\")]\n"
     ]
    }
   ],
   "source": [
    "d = Deck()\n",
    "d.shuffle()\n",
    "c1 = d.drawN(5)\n",
    "print(c1)\n"
   ]
  },
  {
   "cell_type": "markdown",
   "metadata": {},
   "source": [
    "Remember that you can ask Python to give information about a method or object using the built-in help function"
   ]
  },
  {
   "cell_type": "code",
   "execution_count": 25,
   "metadata": {},
   "outputs": [
    {
     "name": "stdout",
     "output_type": "stream",
     "text": [
      "Help on method shuffle in module random:\n",
      "\n",
      "shuffle(x, random=None) method of random.Random instance\n",
      "    Shuffle list x in place, and return None.\n",
      "    \n",
      "    Optional argument random is a 0-argument function returning a\n",
      "    random float in [0.0, 1.0); if it is the default None, the\n",
      "    standard random.random will be used.\n",
      "\n"
     ]
    }
   ],
   "source": [
    "help(random.shuffle)"
   ]
  },
  {
   "cell_type": "markdown",
   "metadata": {},
   "source": [
    "Our own classes can be described by the help function if we write good docstring comments at the top of each class definition and inside each method definition"
   ]
  },
  {
   "cell_type": "code",
   "execution_count": 54,
   "metadata": {},
   "outputs": [
    {
     "name": "stdout",
     "output_type": "stream",
     "text": [
      "Help on class Deck in module __main__:\n",
      "\n",
      "class Deck(builtins.object)\n",
      " |  this represents a deck of cards\n",
      " |  \n",
      " |  Methods defined here:\n",
      " |  \n",
      " |  __init__(self)\n",
      " |      Initialize self.  See help(type(self)) for accurate signature.\n",
      " |  \n",
      " |  draw(self)\n",
      " |      remove top card from the deck and put in discards\n",
      " |      and return that top card\n",
      " |  \n",
      " |  drawN(self, n)\n",
      " |      this returns a list of the first n cards in the deck\n",
      " |      and it moves them from d.cards to d.discards\n",
      " |  \n",
      " |  shuffle(self)\n",
      " |      shuffle the deck in place\n",
      " |  \n",
      " |  ----------------------------------------------------------------------\n",
      " |  Data descriptors defined here:\n",
      " |  \n",
      " |  __dict__\n",
      " |      dictionary for instance variables (if defined)\n",
      " |  \n",
      " |  __weakref__\n",
      " |      list of weak references to the object (if defined)\n",
      "\n"
     ]
    }
   ],
   "source": [
    "help(Deck)"
   ]
  },
  {
   "cell_type": "code",
   "execution_count": 59,
   "metadata": {},
   "outputs": [
    {
     "name": "stdout",
     "output_type": "stream",
     "text": [
      "Help on function drawN in module __main__:\n",
      "\n",
      "drawN(self, n)\n",
      "    this returns a list of the first n cards in the deck\n",
      "    and it moves them from d.cards to d.discards\n",
      "\n"
     ]
    }
   ],
   "source": [
    "help(Deck.drawN)"
   ]
  },
  {
   "cell_type": "code",
   "execution_count": null,
   "metadata": {},
   "outputs": [],
   "source": []
  },
  {
   "cell_type": "code",
   "execution_count": null,
   "metadata": {},
   "outputs": [],
   "source": []
  }
 ],
 "metadata": {
  "kernelspec": {
   "display_name": "Python 3",
   "language": "python",
   "name": "python3"
  },
  "language_info": {
   "codemirror_mode": {
    "name": "ipython",
    "version": 3
   },
   "file_extension": ".py",
   "mimetype": "text/x-python",
   "name": "python",
   "nbconvert_exporter": "python",
   "pygments_lexer": "ipython3",
   "version": "3.7.4"
  }
 },
 "nbformat": 4,
 "nbformat_minor": 4
}
